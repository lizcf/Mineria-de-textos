{
 "cells": [
  {
   "cell_type": "markdown",
   "metadata": {},
   "source": [
    "# Word Embeddings"
   ]
  },
  {
   "cell_type": "markdown",
   "metadata": {},
   "source": [
    "## Librerias"
   ]
  },
  {
   "cell_type": "code",
   "execution_count": 1,
   "metadata": {
    "collapsed": false
   },
   "outputs": [],
   "source": [
    "import codecs\n",
    "import json, string, math\n",
    "import pandas as pd\n",
    "import matplotlib.pyplot as plt\n",
    "import operator\n",
    "import numpy as np\n",
    "import re\n",
    "from collections import Counter\n",
    "from __future__ import division\n",
    "from nltk.stem.snowball import SnowballStemmer\n",
    "from nltk.corpus import stopwords\n",
    "from nltk.stem import WordNetLemmatizer\n",
    "from random import randint\n",
    "import datetime"
   ]
  },
  {
   "cell_type": "code",
   "execution_count": 2,
   "metadata": {
    "collapsed": true
   },
   "outputs": [],
   "source": [
    "def remove_punctuation (text):\n",
    "    return text.translate(None, string.punctuation)\n",
    "\n",
    "def fix_encoding(s):\n",
    "    return s.decode('utf8', 'ignore')\n",
    "\n",
    "def text_to_words(text):\n",
    "    words_only = re.sub(\"[^a-zA-Z]\",\" \",text.split())\n",
    "    return words_only\n",
    "\n",
    "def words_to_word(words):\n",
    "    dictionary={}\n",
    "    words = words.split()\n",
    "    for i in range(len(words)):\n",
    "        if not dictionary.has_key(words[i]):\n",
    "            dictionary[words[i]]=words[i]\n",
    "    return dictionary\n",
    "\n",
    "def create_matrix(m,n,aleatory):\n",
    "    maxdim = 0\n",
    "    if (m>n) or (m==n) :\n",
    "        maxdim = m\n",
    "    else:\n",
    "        maxdim = n\n",
    "    if aleatory==True:\n",
    "        matrix =[[randint(-maxdim, maxdim) for i in range(m)] for i in range(n)]\n",
    "    else:\n",
    "        matrix =[[0. for i in range(m)] for i in range(n)]\n",
    "    return matrix\n",
    "\n",
    "def error_function():\n",
    "    return\n",
    "\n",
    "def distance_function():\n",
    "    return\n",
    "\n",
    "def order_dictionary(dictionary):\n",
    "    dictionarysorted =  sorted(dictionary)\n",
    "    return dictionarysorted\n",
    "    \n",
    "def open_file(pathfile):\n",
    "    with codecs.open(pathfile,'r') as f: # Abrimos el archivo\n",
    "        data = f.read()\n",
    "        f.close()\n",
    "    return data\n",
    "\n",
    "def make_graphic(Matrix, dictionary):\n",
    "    %matplotlib inline\n",
    "    plt.plot(Matrix[:,0], Matrix[:,1], 'o')  \n",
    "    for word, x, y in zip(dictionary, Matrix[:,0], Matrix[:,1]):  \n",
    "        plt.annotate(word, (x, y), size=12)\n",
    "    return plt.show()"
   ]
  },
  {
   "cell_type": "markdown",
   "metadata": {},
   "source": [
    "## Limpieza del corpus"
   ]
  },
  {
   "cell_type": "code",
   "execution_count": 3,
   "metadata": {
    "collapsed": true
   },
   "outputs": [],
   "source": [
    "palabras={}\n",
    "context =[]\n",
    "tam_corpus = 0\n",
    "\n",
    "corpus =  remove_punctuation(open_file('prueba_we.txt'))\n",
    "corpusfix = fix_encoding(corpus.lower())\n",
    "    \n",
    "palabras= words_to_word(corpusfix)\n",
    "context =  corpusfix.splitlines()\n",
    "tam_corpus= len(palabras.keys())"
   ]
  },
  {
   "cell_type": "code",
   "execution_count": 4,
   "metadata": {
    "collapsed": false
   },
   "outputs": [
    {
     "data": {
      "text/plain": [
       "5"
      ]
     },
     "execution_count": 4,
     "metadata": {},
     "output_type": "execute_result"
    }
   ],
   "source": [
    "tam_corpus"
   ]
  },
  {
   "cell_type": "markdown",
   "metadata": {},
   "source": [
    "## Matrices W y V"
   ]
  },
  {
   "cell_type": "code",
   "execution_count": 5,
   "metadata": {
    "collapsed": false
   },
   "outputs": [
    {
     "data": {
      "image/png": "[encoded data removed]",
      "text/plain": [
       "<matplotlib.figure.Figure at 0x1f7ea438>"
      ]
     },
     "metadata": {},
     "output_type": "display_data"
    }
   ],
   "source": [
    "W=  (np.random.random((tam_corpus, 2)) - 0.5) / 2\n",
    "V = (np.random.random((2, tam_corpus)) - 0.5) / tam_corpus\n",
    "WI = W\n",
    "\n",
    "W=np.array(W)\n",
    "V=np.array(V)\n",
    "V = np.transpose(V)\n",
    "\n",
    "make_graphic(W,palabras)\n",
    "palabras = order_dictionary(palabras)"
   ]
  },
  {
   "cell_type": "markdown",
   "metadata": {},
   "source": [
    "## Probabilidad de la palabra"
   ]
  },
  {
   "cell_type": "code",
   "execution_count": 6,
   "metadata": {
    "collapsed": true
   },
   "outputs": [],
   "source": [
    "h = [0.0,0.0]\n",
    "Z=0.0\n",
    "learning_factor = 0.1\n",
    "\n",
    "start_time = datetime.datetime.now()\n",
    "\n",
    "for i in range(50):\n",
    "    for c in context: \n",
    "        h= (sum(W[palabras.index(wC)] for wC in c.split()))/len(c)         \n",
    "        Z= (sum(np.exp(np.tanh((-np.dot(Vpalabras.index(w)), h)))) for w in palabras)\n",
    "        \n",
    "        h = [0.0,0.0] \n",
    "        Z=0.0\n",
    "\n",
    "    MeanV= (sum(V[palabras.index(w)] for w in palabras))/len(palabras) \n",
    "    for c in context: \n",
    "        for w in palabras: \n",
    "            if w in c:\n",
    "                W[palabras.index(w)] = W[palabras.index(w)] - learning_factor*MeanV"
   ]
  },
  {
   "cell_type": "code",
   "execution_count": 7,
   "metadata": {
    "collapsed": false
   },
   "outputs": [
    {
     "name": "stdout",
     "output_type": "stream",
     "text": [
      "Took 0:00:01.744000s\n"
     ]
    },
    {
     "data": {
      "image/png": "[encoded data removed]",
      "text/plain": [
       "<matplotlib.figure.Figure at 0x1fb1a6d8>"
      ]
     },
     "metadata": {},
     "output_type": "display_data"
    },
    {
     "data": {
      "text/plain": [
       "[(u'perro', (-0.5726748885648959, -0.33119670656103978)),\n",
       " (u'el', (-0.52147687723216418, -0.11151563487231259)),\n",
       " (u'gato', (-0.50100184049333651, -0.27197590739258515)),\n",
       " (u'come', (-0.41249425581277721, -0.035016532160766174)),\n",
       " (u'juega', (-0.21198497690966553, 0.0040029232067860946))]"
      ]
     },
     "execution_count": 7,
     "metadata": {},
     "output_type": "execute_result"
    }
   ],
   "source": [
    "end_time = datetime.datetime.now()\n",
    "print('Took {}s'.format(end_time - start_time))\n",
    "make_graphic(W,palabras)\n",
    "\n",
    "Resultados={}\n",
    "for w, x, y in zip(palabras,W[:,0],W[:,1]):\n",
    "    if not Resultados.has_key(w):\n",
    "            Resultados[w]=x,y\n",
    "            \n",
    "resultado = sorted(Resultados.items(), key=operator.itemgetter(1))\n",
    "resultado"
   ]
  }
 ],
 "metadata": {
  "kernelspec": {
   "display_name": "Python 2",
   "language": "python",
   "name": "python2"
  },
  "language_info": {
   "codemirror_mode": {
    "name": "ipython",
    "version": 2
   },
   "file_extension": ".py",
   "mimetype": "text/x-python",
   "name": "python",
   "nbconvert_exporter": "python",
   "pygments_lexer": "ipython2",
   "version": "2.7.11"
  }
 },
 "nbformat": 4,
 "nbformat_minor": 0
}
